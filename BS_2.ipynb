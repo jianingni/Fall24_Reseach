{
 "cells": [
  {
   "cell_type": "code",
   "execution_count": 2,
   "metadata": {},
   "outputs": [],
   "source": [
    "from bs4 import BeautifulSoup\n",
    "import requests"
   ]
  },
  {
   "cell_type": "code",
   "execution_count": 9,
   "metadata": {},
   "outputs": [
    {
     "name": "stdout",
     "output_type": "stream",
     "text": [
      "<div class=\"col-xs-12 col-lg-4 hotlist\">\n",
      "<div class=\"row\">\n",
      "<div class=\"pin_demo_out\">\n",
      "<div class=\"pin\">\n",
      "<div class=\"pin_demo\">\n",
      "<a href=\"https://m.bjnews.com.cn/detail/1727164912129551.html\" target=\"_blank\">\n",
      "<div class=\"pin_tit\">\n",
      "<span class=\"zt_tit\">专题</span>\n",
      "                                                                                                                            央行稳楼市“大礼包”来了！降准、降息、降存量利率……</div>\n",
      "</a>\n",
      "<!-- 无图稿件判断 start-->\n",
      "<!-- 如果是专题样式 -->\n",
      "<div class=\"index-overflow-zt\">\n",
      "<a href=\"https://m.bjnews.com.cn/detail/1727164912129551.html\" target=\"_blank\">\n",
      "<img class=\"img-responsive fd index_zt\" data-bd-imgshare-binded=\"1\" src=\"https://media.bjnews.com.cn/image/2024/09/24/5502672038516566435.jpg?x-oss-process=image/resize,m_lfit,w_365/quality,q_80\"/>\n",
      "</a>\n",
      "<span class=\"zt-bom\"></span>\n",
      "</div>\n",
      "<!-- 如果是专题样式end -->\n",
      "<!--无图稿件判断 end-->\n",
      "<div class=\"pin_tips\" style=\"margin-bottom: 10px;font-size: 12px;line-height: 1.5;\">\n",
      "<a class=\"noPadd\" href=\"https://m.bjnews.com.cn/detail/1727164912129551.html\" target=\"_blank\">\n",
      "                                                                    9月24日，国务院新闻办公室举行新闻发布会，当日央行发布多项利好政策，包括存量房贷利率将下降、降低最低首付比例、引导LPR（贷款市场报价...                                                                    <i>[全文]</i>\n",
      "</a>\n",
      "</div>\n",
      "<div class=\"pin_tips\">\n",
      "<a href=\"https://www.bjnews.com.cn/detail/1727147767168114.html\" target=\"_blank\">\n",
      "<span></span>\n",
      "                                                                        央行宣布下调存量房贷利率 百万房贷月供或减少300元                                                                    </a>\n",
      "<a href=\"https://www.bjnews.com.cn/detail/1727154131168132.html\" target=\"_blank\">\n",
      "<span></span>\n",
      "                                                                        央行降准0.5个百分点，年内LPR有望继续下降                                                                    </a>\n",
      "<a href=\"https://www.bjnews.com.cn/detail/1727183797168218.html\" target=\"_blank\">\n",
      "<span></span>\n",
      "                                                                        “金融16条”和经营性物业贷款政策延期 支持房企融资、保交楼                                                                    </a>\n",
      "</div>\n",
      "<div class=\"bom\">\n",
      "<span class=\"source\">\n",
      "                                                                                                                                专题                                                            </span>\n",
      "<!-- 如果tag或者数量没有则不显示竖线 -->\n",
      "<!-- 有什么数显示什么数，只显示一个 -->\n",
      "<!-- 如果有时间显示时间 -->\n",
      "<!-- 分享 -->\n",
      "<div class=\"share-to\">\n",
      "<!-- 微博分享 -->\n",
      "<span class=\"sina\" id=\"v4_s\">\n",
      "<a href=\"http://service.weibo.com/share/share.php?url=&amp;pic=\" target=\"_blank\">\n",
      "<span class=\"weibo yunafen\"></span>\n",
      "</a>\n",
      "</span>\n",
      "<!-- 微信分享 -->\n",
      "<span class=\"weixin\" tagerturl=\"\">\n",
      "<div class=\"weixin-code\">\n",
      "<p class=\"wx-t\">分享到微信朋友圈</p>\n",
      "<div class=\"er\"></div>\n",
      "<!-- <span class=\"closeWx\"></span> -->\n",
      "<p class=\"wx-t2\">打开微信，点击底部的“发现”，使用“扫<br/>一扫”即可将网页分享到我的朋友圈。</p>\n",
      "</div>\n",
      "</span>\n",
      "</div>\n",
      "</div>\n",
      "<div class=\"pin_line\"></div>\n",
      "</div>\n",
      "</div>\n",
      "</div>\n",
      "</div>\n",
      "</div>\n"
     ]
    }
   ],
   "source": [
    "\n",
    "html_test = requests.get('https://www.bjnews.com.cn/estate').text\n",
    "\n",
    "soup = BeautifulSoup(html_test, 'lxml')\n",
    "\n",
    "article = soup.find('div', class_ = 'col-xs-12 col-lg-4 hotlist')\n",
    "\n",
    "print(article)"
   ]
  },
  {
   "cell_type": "code",
   "execution_count": 13,
   "metadata": {},
   "outputs": [
    {
     "name": "stdout",
     "output_type": "stream",
     "text": [
      "\n",
      "专题\n",
      "央行稳楼市“大礼包”来了！降准、降息、降存量利率……\n"
     ]
    }
   ],
   "source": [
    "article_title = article.find('div', class_ = 'pin_tit').text.replace(' ','')\n",
    "print(article_title)"
   ]
  },
  {
   "cell_type": "code",
   "execution_count": 20,
   "metadata": {},
   "outputs": [
    {
     "name": "stdout",
     "output_type": "stream",
     "text": [
      "<a class=\"noPadd\" href=\"https://m.bjnews.com.cn/detail/1727164912129551.html\" target=\"_blank\">\n",
      "                                                                    9月24日，国务院新闻办公室举行新闻发布会，当日央行发布多项利好政策，包括存量房贷利率将下降、降低最低首付比例、引导LPR（贷款市场报价...                                                                    <i>[全文]</i>\n",
      "</a>\n"
     ]
    }
   ],
   "source": [
    "# Find corresponding html\n",
    "link = article.find('a', class_ = 'noPadd')    \n",
    "print(link)"
   ]
  }
 ],
 "metadata": {
  "kernelspec": {
   "display_name": "base",
   "language": "python",
   "name": "python3"
  },
  "language_info": {
   "codemirror_mode": {
    "name": "ipython",
    "version": 3
   },
   "file_extension": ".py",
   "mimetype": "text/x-python",
   "name": "python",
   "nbconvert_exporter": "python",
   "pygments_lexer": "ipython3",
   "version": "3.12.4"
  }
 },
 "nbformat": 4,
 "nbformat_minor": 2
}

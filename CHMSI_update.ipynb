{
 "cells": [
  {
   "cell_type": "code",
   "execution_count": 1,
   "id": "d9a0a937-9603-45ff-be0f-c0e470e4edb2",
   "metadata": {},
   "outputs": [
    {
     "name": "stdout",
     "output_type": "stream",
     "text": [
      "Requirement already satisfied: autoscraper in /opt/anaconda3/lib/python3.12/site-packages (1.1.14)\n",
      "Requirement already satisfied: requests in /opt/anaconda3/lib/python3.12/site-packages (from autoscraper) (2.32.2)\n",
      "Requirement already satisfied: bs4 in /opt/anaconda3/lib/python3.12/site-packages (from autoscraper) (0.0.2)\n",
      "Requirement already satisfied: lxml in /opt/anaconda3/lib/python3.12/site-packages (from autoscraper) (5.2.1)\n",
      "Requirement already satisfied: beautifulsoup4 in /opt/anaconda3/lib/python3.12/site-packages (from bs4->autoscraper) (4.12.3)\n",
      "Requirement already satisfied: charset-normalizer<4,>=2 in /opt/anaconda3/lib/python3.12/site-packages (from requests->autoscraper) (2.0.4)\n",
      "Requirement already satisfied: idna<4,>=2.5 in /opt/anaconda3/lib/python3.12/site-packages (from requests->autoscraper) (3.7)\n",
      "Requirement already satisfied: urllib3<3,>=1.21.1 in /opt/anaconda3/lib/python3.12/site-packages (from requests->autoscraper) (2.2.2)\n",
      "Requirement already satisfied: certifi>=2017.4.17 in /opt/anaconda3/lib/python3.12/site-packages (from requests->autoscraper) (2024.8.30)\n",
      "Requirement already satisfied: soupsieve>1.2 in /opt/anaconda3/lib/python3.12/site-packages (from beautifulsoup4->bs4->autoscraper) (2.5)\n"
     ]
    }
   ],
   "source": [
    "# import package \n",
    "\n",
    "!pip install autoscraper"
   ]
  },
  {
   "cell_type": "code",
   "execution_count": 2,
   "id": "09ec8a95-40f7-400f-89bc-a6c8722d55c7",
   "metadata": {
    "ExecuteTime": {
     "end_time": "2024-09-19T13:45:31.755161Z",
     "start_time": "2024-09-19T13:45:31.738153Z"
    }
   },
   "outputs": [],
   "source": [
    "# import AutoScraper\n",
    "\n",
    "from autoscraper import AutoScraper\n",
    "\n",
    "import pandas as pd"
   ]
  },
  {
   "cell_type": "code",
   "execution_count": 14,
   "id": "31031c17-c0ef-406c-9032-2fdacc3250ff",
   "metadata": {
    "ExecuteTime": {
     "end_time": "2024-09-19T13:45:33.465417Z",
     "start_time": "2024-09-19T13:45:33.447404Z"
    }
   },
   "outputs": [],
   "source": [
    "# website\n",
    "\n",
    "url = 'https://www.bjnews.com.cn/estate/1.html'\n",
    "\n",
    "# keywords \n",
    "# \"房产\",\"地产\",\"住房\",\"商品房\",\"楼市\",\"房市\",\"房地产\",\"楼盘\",\"房价\",\"一手房\",\"二手房\"\n"
   ]
  },
  {
   "cell_type": "code",
   "execution_count": 15,
   "id": "bf02b3a2ea05b1d8",
   "metadata": {
    "ExecuteTime": {
     "end_time": "2024-09-19T13:59:41.235034Z",
     "start_time": "2024-09-19T13:59:41.088461Z"
    }
   },
   "outputs": [
    {
     "name": "stdout",
     "output_type": "stream",
     "text": [
      "[]\n"
     ]
    },
    {
     "data": {
      "text/plain": [
       "dict_keys([])"
      ]
     },
     "execution_count": 15,
     "metadata": {},
     "output_type": "execute_result"
    }
   ],
   "source": [
    "url = 'https://www.bjnews.com.cn/estate/1.html'\n",
    "scraper = AutoScraper()\n",
    "\n",
    "wanted_list = ['新政影响几何？北京楼市暗潮涌动，有新盘到访量增加三至四成', '地产深一度', '2.2', \n",
    "               'https://www.bjnews.com.cn/detail/1727659726168864.html']\n",
    "\n",
    "# Build the scraper\n",
    "results = scraper.build(url=url, wanted_list=wanted_list)\n",
    "\n",
    "print(results)\n",
    "\n",
    "# Use get_result_similar with grouped=True to get a dictionary\n",
    "results = scraper.get_result_similar(url, grouped=True)\n",
    "\n",
    "results.keys()\n"
   ]
  },
  {
   "cell_type": "code",
   "execution_count": 6,
   "id": "82930698",
   "metadata": {},
   "outputs": [],
   "source": [
    "scraper.keep_rules(['rule_vgu8', 'rule_77ak', 'rule_zz1h', 'rule_n7bp', 'rule_w9ca', 'rule_mxro', 'rule_ranh', 'rule_fihj', 'rule_7qcc', 'rule_mgm2', 'rule_dzow'])\n",
    "scraper.save(\"bjnews-estate\")\n",
    "\n",
    "bjnews_scraper = None \n",
    "bjnews_scraper = AutoScraper()\n",
    "bjnews_scraper.load(\"bjnews-estate\")"
   ]
  },
  {
   "cell_type": "code",
   "execution_count": 7,
   "id": "35f03ee6",
   "metadata": {},
   "outputs": [
    {
     "name": "stdout",
     "output_type": "stream",
     "text": [
      "https://www.bjnews.com.cn/estate/1.html\n",
      "https://www.bjnews.com.cn/estate/2.html\n",
      "https://www.bjnews.com.cn/estate/3.html\n",
      "https://www.bjnews.com.cn/estate/4.html\n",
      "https://www.bjnews.com.cn/estate/5.html\n",
      "https://www.bjnews.com.cn/estate/6.html\n",
      "https://www.bjnews.com.cn/estate/7.html\n",
      "https://www.bjnews.com.cn/estate/8.html\n"
     ]
    }
   ],
   "source": [
    "df = pd.DataFrame()\n",
    "\n",
    "# https://www.bjnews.com.cn/estate\n",
    "# https://www.bjnews.com.cn/estate/2.html\n",
    "# https://www.bjnews.com.cn/estate/3.html\n",
    "# https://www.bjnews.com.cn/estate/4.html\n",
    "\n",
    "df = pd.DataFrame(columns=[\"Title\", \"Link\"])\n",
    "\n",
    "for n in range (1, 9): \n",
    "    url = f'https://www.bjnews.com.cn/estate/{n}.html'\n",
    "\n",
    "    print(url)\n",
    "    result = bjnews_scraper.get_result_similar(url=url, grouped=True)\n",
    "\n",
    "    df = pd.concat([df, pd.DataFrame(result)])\n",
    "    \n",
    "    "
   ]
  },
  {
   "cell_type": "code",
   "execution_count": 12,
   "id": "cba7a7d7",
   "metadata": {},
   "outputs": [],
   "source": [
    "# In the last step, I want to use the saved rule from the first url, scrape every url presented above using the same methods."
   ]
  }
 ],
 "metadata": {
  "kernelspec": {
   "display_name": "Python 3 (ipykernel)",
   "language": "python",
   "name": "python3"
  },
  "language_info": {
   "codemirror_mode": {
    "name": "ipython",
    "version": 3
   },
   "file_extension": ".py",
   "mimetype": "text/x-python",
   "name": "python",
   "nbconvert_exporter": "python",
   "pygments_lexer": "ipython3",
   "version": "3.12.4"
  }
 },
 "nbformat": 4,
 "nbformat_minor": 5
}
